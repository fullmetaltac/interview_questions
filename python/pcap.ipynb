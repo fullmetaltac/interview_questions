{
 "cells": [
  {
   "cell_type": "markdown",
   "metadata": {},
   "source": [
    "## Certified Associate in Python Programming (PCAP)"
   ]
  },
  {
   "cell_type": "markdown",
   "metadata": {},
   "source": [
    "### Examination paper (PCAP-31-02)"
   ]
  },
  {
   "cell_type": "markdown",
   "metadata": {},
   "source": [
    "#### Question 1  "
   ]
  },
  {
   "cell_type": "markdown",
   "metadata": {},
   "source": [
    "The following expression  \n",
    "```python\n",
    "2 ** 3 ** 2 ** 1\n",
    "```\n",
    "is:\n",
    "1. Invalid\n",
    "1. Equal to 16\n",
    "1. Equal to 16.0\n",
    "1. Equal to 512\n",
    "1. Equal to 64\n",
    "1. Equal to 128.0"
   ]
  },
  {
   "cell_type": "code",
   "execution_count": 1,
   "metadata": {},
   "outputs": [
    {
     "data": {
      "text/plain": [
       "512"
      ]
     },
     "execution_count": 1,
     "metadata": {},
     "output_type": "execute_result"
    }
   ],
   "source": [
    "2 ** 3 ** 2 ** 1"
   ]
  },
  {
   "cell_type": "markdown",
   "metadata": {},
   "source": [
    "#### Question 2"
   ]
  },
  {
   "cell_type": "markdown",
   "metadata": {},
   "source": [
    "If you want to build a string that reads:  \n",
    "```\n",
    "Peter's sister's name's \"Anna\"\n",
    "```\n",
    "which of the following literals would you use? (Select all that apply)\n",
    "1. \"Peter's sister's name's \\\"Anna\\\"\"\n",
    "1. 'Peter\\'s sister\\'s name\\'s \\\"Anna\\\"'\n",
    "1. \"Peter's sister's name's \"Anna\"\"\n",
    "1. 'Peter's sister's name's \"Anna\"'"
   ]
  },
  {
   "cell_type": "code",
   "execution_count": 2,
   "metadata": {},
   "outputs": [
    {
     "name": "stdout",
     "output_type": "stream",
     "text": [
      "Peter's sister's name's \"Anna\"\n",
      "Peter's sister's name's \"Anna\"\n"
     ]
    }
   ],
   "source": [
    "print(\"Peter's sister's name's \\\"Anna\\\"\")\n",
    "print('Peter\\'s sister\\'s name\\'s \\\"Anna\\\"')"
   ]
  },
  {
   "cell_type": "markdown",
   "metadata": {},
   "source": [
    "#### Question 3"
   ]
  },
  {
   "cell_type": "markdown",
   "metadata": {},
   "source": [
    "What is the expected output of the following snippet?\n",
    "```python\n",
    "i = 250\n",
    "while len(str(i)) > 72:\n",
    "    i *= 2\n",
    "else:\n",
    "    i //= 2\n",
    "print(i)\n",
    "```\n",
    "1. 125\n",
    "1. 250\n",
    "1. 72\n",
    "1. 500"
   ]
  },
  {
   "cell_type": "code",
   "execution_count": 3,
   "metadata": {},
   "outputs": [
    {
     "name": "stdout",
     "output_type": "stream",
     "text": [
      "125\n"
     ]
    }
   ],
   "source": [
    "i = 250\n",
    "while len(str(i)) > 72:\n",
    "    i *= 2\n",
    "else:\n",
    "    i //= 2\n",
    "print(i)"
   ]
  },
  {
   "cell_type": "markdown",
   "metadata": {},
   "source": [
    "#### Question 4"
   ]
  },
  {
   "cell_type": "markdown",
   "metadata": {},
   "source": [
    "What snippet would you insert in the line indicated below:\n",
    "```python\n",
    "n = 0\n",
    "while n < 4:\n",
    "    n += 1\n",
    "    # insert your code here\n",
    "```\n",
    "to print the following string to the monitor after the loop finishes its execution:\n",
    "```\n",
    "1 2 3 4\n",
    "```\n",
    "1. print(n)\n",
    "1. print(n, sep=\" \")\n",
    "1. print(n, end=\" \")\n",
    "1. print(n, \" \")"
   ]
  },
  {
   "cell_type": "code",
   "execution_count": 4,
   "metadata": {},
   "outputs": [
    {
     "name": "stdout",
     "output_type": "stream",
     "text": [
      "1 2 3 4 "
     ]
    }
   ],
   "source": [
    "n = 0\n",
    "while n < 4:\n",
    "    n += 1\n",
    "    print(n, end=\" \")"
   ]
  },
  {
   "cell_type": "markdown",
   "metadata": {},
   "source": [
    "#### Question 5"
   ]
  },
  {
   "cell_type": "markdown",
   "metadata": {},
   "source": [
    "What is the value type returned after executing the following snippet?\n",
    "```python\n",
    "x = 0\n",
    "y = 2\n",
    "z = len(\"Python\")\n",
    "x = y > z\n",
    "print(x)\n",
    "```\n",
    "1. int\n",
    "1. float\n",
    "1. str\n",
    "1. bool\n",
    "1. NoneType"
   ]
  },
  {
   "cell_type": "code",
   "execution_count": 5,
   "metadata": {},
   "outputs": [
    {
     "name": "stdout",
     "output_type": "stream",
     "text": [
      "False\n",
      "<class 'bool'>\n"
     ]
    }
   ],
   "source": [
    "x = 0\n",
    "y = 2\n",
    "z = len(\"Python\")\n",
    "x = y > z\n",
    "print(x)\n",
    "print(type(x))"
   ]
  },
  {
   "cell_type": "markdown",
   "metadata": {},
   "source": [
    "#### Question 6"
   ]
  },
  {
   "cell_type": "markdown",
   "metadata": {},
   "source": [
    "What will the final value of the ```Val``` variable be when the following snippet finishes its execution?\n",
    "```python\n",
    "Val = 1\n",
    "Val2 = 0\n",
    "Val = Val ^ Val2\n",
    "Val2 = Val ^ Val2\n",
    "Val = Val ^ Val2\n",
    "```\n",
    "1. 0\n",
    "1. 1\n",
    "1. 2\n",
    "1. 4\n",
    "1. The code is erroneous"
   ]
  },
  {
   "cell_type": "code",
   "execution_count": 6,
   "metadata": {},
   "outputs": [
    {
     "name": "stdout",
     "output_type": "stream",
     "text": [
      "0\n"
     ]
    }
   ],
   "source": [
    "Val = 1\n",
    "Val2 = 0\n",
    "Val = Val ^ Val2\n",
    "Val2 = Val ^ Val2\n",
    "Val = Val ^ Val2\n",
    "print(Val)"
   ]
  },
  {
   "cell_type": "markdown",
   "metadata": {},
   "source": [
    "#### Question 7"
   ]
  },
  {
   "cell_type": "markdown",
   "metadata": {},
   "source": [
    "Which line can be used instead of the comment to cause the snippet to produce the following expected output? (Select all that apply)\n",
    "```python\n",
    "z, y, x = 2, 1, 0\n",
    "x, z = z, y\n",
    "y = y - z\n",
    "# put line here\n",
    "print(x, y, z)\n",
    "```\n",
    "Expected output:\n",
    "```\n",
    "0, 1, 2\n",
    "```\n",
    "1. x, y, z = y, z, x\n",
    "1. z, y, x = x, z, y\n",
    "1. y, z, x = x, y, z\n",
    "1. The code is erroneous"
   ]
  },
  {
   "cell_type": "code",
   "execution_count": 7,
   "metadata": {},
   "outputs": [
    {
     "name": "stdout",
     "output_type": "stream",
     "text": [
      "0 1 2\n"
     ]
    }
   ],
   "source": [
    "z, y, x = 2, 1, 0\n",
    "x, z = z, y\n",
    "y = y - z\n",
    "x, y, z = y, z, x\n",
    "print(x, y, z)"
   ]
  },
  {
   "cell_type": "markdown",
   "metadata": {},
   "source": [
    "#### Question 8"
   ]
  },
  {
   "cell_type": "markdown",
   "metadata": {},
   "source": [
    "What is the expected output of the following snippet?\n",
    "```python\n",
    "a = 0\n",
    "b = a ** 0\n",
    "if b < a + 1:\n",
    "    c = 1\n",
    "elif b == 1:\n",
    "    c = 2\n",
    "else:\n",
    "    c = 3\n",
    "print(a + b + c)\n",
    "```\n",
    "1. 1\n",
    "1. 2\n",
    "1. 3\n",
    "1. The code is erroneous"
   ]
  },
  {
   "cell_type": "code",
   "execution_count": 8,
   "metadata": {},
   "outputs": [
    {
     "name": "stdout",
     "output_type": "stream",
     "text": [
      "3\n"
     ]
    }
   ],
   "source": [
    "a = 0\n",
    "b = a ** 0\n",
    "if b < a + 1:\n",
    "    c = 1\n",
    "elif b == 1:\n",
    "    c = 2\n",
    "else:\n",
    "    c = 3\n",
    "print(a + b + c)"
   ]
  },
  {
   "cell_type": "markdown",
   "metadata": {},
   "source": [
    "#### Question 9"
   ]
  },
  {
   "cell_type": "markdown",
   "metadata": {},
   "source": [
    "How many stars (*) does the following snippet print?\n",
    "```python\n",
    "i = 10\n",
    "while i > 0 :\n",
    "    i -= 3\n",
    "    print(\"*\")\n",
    "    if i <= 3:\n",
    "        break\n",
    "else:\n",
    "    print(\"*\")\n",
    "```\n",
    "1. Three\n",
    "1. Two\n",
    "1. One\n",
    "1. The code is erroneous"
   ]
  },
  {
   "cell_type": "code",
   "execution_count": 9,
   "metadata": {},
   "outputs": [
    {
     "name": "stdout",
     "output_type": "stream",
     "text": [
      "*\n",
      "*\n",
      "*\n"
     ]
    }
   ],
   "source": [
    "i = 10\n",
    "while i > 0 :\n",
    "    i -= 3\n",
    "    print(\"*\")\n",
    "    if i <= 3:\n",
    "        break\n",
    "else:\n",
    "    print(\"*\")"
   ]
  },
  {
   "cell_type": "markdown",
   "metadata": {},
   "source": [
    "#### Question 10"
   ]
  },
  {
   "cell_type": "markdown",
   "metadata": {},
   "source": [
    "How many lines does each of the following code examples output when run separately?\n",
    "```python\n",
    "# Example 1\n",
    "for i in range(1, 4, 2):\n",
    "    print(\"*\")\n",
    "\n",
    "# Example 2\n",
    "for i in range(1, 4, 2):\n",
    "    print(\"*\", end=\"\")\n",
    "\n",
    "# Example 3\n",
    "for i in range(1, 4, 2):\n",
    "    print(\"*\", end=\"**\")\n",
    "\n",
    "# Example 4\n",
    "for i in range(1, 4, 2):\n",
    "    print(\"*\", end=\"**\")\n",
    "print(\"***\")\n",
    "```\n",
    "1. Example 1: two, Example 2: one, Example 3: one, Example 4: one\n",
    "1. Example 1: two, Example 2: one, Example 3: one, Example 4: two\n",
    "1. Example 1: two, Example 2: one, Example 3: two, Example 4: three\n",
    "1. Example 1: one, Example 2: one, Example 3: one, Example 4: two"
   ]
  },
  {
   "cell_type": "code",
   "execution_count": 10,
   "metadata": {},
   "outputs": [
    {
     "name": "stdout",
     "output_type": "stream",
     "text": [
      "*\n",
      "*\n"
     ]
    }
   ],
   "source": [
    "# Example 1\n",
    "for i in range(1, 4, 2):\n",
    "    print(\"*\")"
   ]
  },
  {
   "cell_type": "code",
   "execution_count": 11,
   "metadata": {},
   "outputs": [
    {
     "name": "stdout",
     "output_type": "stream",
     "text": [
      "**"
     ]
    }
   ],
   "source": [
    "# Example 2\n",
    "for i in range(1, 4, 2):\n",
    "    print(\"*\", end=\"\")"
   ]
  },
  {
   "cell_type": "code",
   "execution_count": 12,
   "metadata": {},
   "outputs": [
    {
     "name": "stdout",
     "output_type": "stream",
     "text": [
      "******"
     ]
    }
   ],
   "source": [
    "# Example 3\n",
    "for i in range(1, 4, 2):\n",
    "    print(\"*\", end=\"**\")"
   ]
  },
  {
   "cell_type": "code",
   "execution_count": 13,
   "metadata": {},
   "outputs": [
    {
     "name": "stdout",
     "output_type": "stream",
     "text": [
      "*********\n"
     ]
    }
   ],
   "source": [
    "# Example 4\n",
    "for i in range(1, 4, 2):\n",
    "    print(\"*\", end=\"**\")\n",
    "print(\"***\")"
   ]
  },
  {
   "cell_type": "markdown",
   "metadata": {},
   "source": [
    "#### Question 11"
   ]
  },
  {
   "cell_type": "markdown",
   "metadata": {},
   "source": [
    "Which of the following statements are true? (Select all that apply)\n",
    "\n",
    "- A. UNICODE is the name of an operating system\n",
    "- B. UTF-8 is the name of a data transmission device\n",
    "- C. ASCII is an acronym for Automatic Systems of Computer Inner Interoperability\n",
    "- D. The Python Language Reference is the official reference manual that describes the syntax and semantics of the Python language\n",
    "- E. Python strings are immutable, which means they cannot be sliced\n",
    "- F. Python strings are mutable, which means they can be sliced\n",
    "- G. Lists and strings in Python can be sliced"
   ]
  },
  {
   "cell_type": "markdown",
   "metadata": {},
   "source": [
    "**Answer**  \n",
    "D and G\n",
    "\n",
    "**Explanation**  \n",
    "Unicode is a universal character set. UTF-8 is the name of an encoding for all characters in the Unicode standard. ASCII stands for American Standard Code for Information Interchange. Though string objects are indeed immutable, they are still sequences of characters and hence may be sliced, resulting in a new string object being returned. Lists and strings are both sequences and hence may be sliced."
   ]
  },
  {
   "cell_type": "markdown",
   "metadata": {},
   "source": [
    "#### Question 12"
   ]
  },
  {
   "cell_type": "markdown",
   "metadata": {},
   "source": [
    "What is the result of the following comparison?\n",
    "```python\n",
    "x = \"20\"\n",
    "y = \"30\"\n",
    "print(x > y)\n",
    "```\n",
    "1. True\n",
    "1. False\n",
    "1. None\n",
    "1. The comparison causes a runtime exception/error"
   ]
  },
  {
   "cell_type": "code",
   "execution_count": 14,
   "metadata": {},
   "outputs": [
    {
     "name": "stdout",
     "output_type": "stream",
     "text": [
      "False\n"
     ]
    }
   ],
   "source": [
    "x = \"20\"\n",
    "y = \"30\"\n",
    "print(x > y)"
   ]
  },
  {
   "cell_type": "markdown",
   "metadata": {},
   "source": [
    "#### Question 13"
   ]
  },
  {
   "cell_type": "markdown",
   "metadata": {},
   "source": [
    "What is the expected output of the following snippet?\n",
    "```python\n",
    "s = \"Hello, Python!\"\n",
    "print(s[-14:15])\n",
    "```\n",
    "1. Hello, Python!\n",
    "1. !nohtyP ,olleH\n",
    "1. Hello, Python!Hello, Python!\n",
    "1. !nohtyP ,olleH!nohtyP ,olleH\n",
    "1. The program causes a runtime exception/error\n",
    "1. The result cannot be predicted"
   ]
  },
  {
   "cell_type": "code",
   "execution_count": 15,
   "metadata": {},
   "outputs": [
    {
     "name": "stdout",
     "output_type": "stream",
     "text": [
      "Hello, Python!\n"
     ]
    }
   ],
   "source": [
    "s = \"Hello, Python!\"\n",
    "print(s[-14:15])"
   ]
  },
  {
   "cell_type": "markdown",
   "metadata": {},
   "source": [
    "#### Question 14"
   ]
  },
  {
   "cell_type": "markdown",
   "metadata": {},
   "source": [
    "What is the expected output of the following snippet?\n",
    "```python\n",
    "lst = [\"A\", \"B\", \"C\", 2, 4]\n",
    "del lst[0:-2]\n",
    "print(lst)\n",
    "```\n",
    "1. [2, 4]\n",
    "1. ['C', 2, 4]\n",
    "1. ['B', 'C', 2, 4]\n",
    "1. ['A', 'B']"
   ]
  },
  {
   "cell_type": "code",
   "execution_count": 16,
   "metadata": {},
   "outputs": [
    {
     "name": "stdout",
     "output_type": "stream",
     "text": [
      "[2, 4]\n"
     ]
    }
   ],
   "source": [
    "lst = [\"A\", \"B\", \"C\", 2, 4]\n",
    "del lst[0:-2]\n",
    "print(lst)"
   ]
  },
  {
   "cell_type": "markdown",
   "metadata": {},
   "source": [
    "#### Question 15"
   ]
  },
  {
   "cell_type": "markdown",
   "metadata": {},
   "source": [
    "What is the expected output of the following snippet?\n",
    "```python\n",
    "dict = { 'a': 1, 'b': 2, 'c': 3 }\n",
    "for item in dict:\n",
    "    print(item)\n",
    "```\n",
    "1. - a\n",
    "   - b\n",
    "   - c\n",
    "1. - 1\n",
    "   - 2\n",
    "   - 3\n",
    "1. - a:1\n",
    "   - b:2\n",
    "   - c:3\n",
    "1. - 0\n",
    "   - 1\n",
    "   - 2\n",
    "1. The code is erroneous"
   ]
  },
  {
   "cell_type": "code",
   "execution_count": 17,
   "metadata": {},
   "outputs": [
    {
     "name": "stdout",
     "output_type": "stream",
     "text": [
      "a\n",
      "b\n",
      "c\n"
     ]
    }
   ],
   "source": [
    "dict = { 'a': 1, 'b': 2, 'c': 3 }\n",
    "for item in dict:\n",
    "    print(item)"
   ]
  },
  {
   "cell_type": "markdown",
   "metadata": {},
   "source": [
    "#### Question 16"
   ]
  },
  {
   "cell_type": "markdown",
   "metadata": {},
   "source": [
    "What is the expected output of the following snippet?\n",
    "```python\n",
    "s = 'python'\n",
    "for i in range(len(s)):\n",
    "    i = s[i].upper()\n",
    "print(s, end=\"\")\n",
    "```\n",
    "1. PYTHON\n",
    "1. Python\n",
    "1. python\n",
    "1. - P\n",
    "   - Y\n",
    "   - T\n",
    "   - H\n",
    "   - O\n",
    "   - N\n",
    "1. - P\n",
    "   - y\n",
    "   - t\n",
    "   - h\n",
    "   - o\n",
    "   - n\n",
    "1. The code will cause a runtime exception"
   ]
  },
  {
   "cell_type": "code",
   "execution_count": 18,
   "metadata": {},
   "outputs": [
    {
     "name": "stdout",
     "output_type": "stream",
     "text": [
      "python"
     ]
    }
   ],
   "source": [
    "s = 'python'\n",
    "for i in range(len(s)):\n",
    "    i = s[i].upper()\n",
    "print(s, end=\"\")"
   ]
  },
  {
   "cell_type": "markdown",
   "metadata": {},
   "source": [
    "#### Question 17"
   ]
  },
  {
   "cell_type": "markdown",
   "metadata": {},
   "source": [
    "What is the expected output of the following snippet?\n",
    "```python\n",
    "lst = [i // i for i in range(0,4)]\n",
    "sum = 0\n",
    "for n in lst:\n",
    "    sum += n\n",
    "print(sum)\n",
    "```\n",
    "1. 0\n",
    "1. 3\n",
    "1. 7\n",
    "1. 11\n",
    "1. The program will cause a runtime exception"
   ]
  },
  {
   "cell_type": "code",
   "execution_count": 19,
   "metadata": {},
   "outputs": [
    {
     "ename": "ZeroDivisionError",
     "evalue": "integer division or modulo by zero",
     "output_type": "error",
     "traceback": [
      "\u001b[1;31m---------------------------------------------------------------------------\u001b[0m",
      "\u001b[1;31mZeroDivisionError\u001b[0m                         Traceback (most recent call last)",
      "Cell \u001b[1;32mIn[19], line 1\u001b[0m\n\u001b[1;32m----> 1\u001b[0m lst \u001b[38;5;241m=\u001b[39m [\u001b[43mi\u001b[49m\u001b[43m \u001b[49m\u001b[38;5;241;43m/\u001b[39;49m\u001b[38;5;241;43m/\u001b[39;49m\u001b[43m \u001b[49m\u001b[43mi\u001b[49m \u001b[38;5;28;01mfor\u001b[39;00m i \u001b[38;5;129;01min\u001b[39;00m \u001b[38;5;28mrange\u001b[39m(\u001b[38;5;241m0\u001b[39m,\u001b[38;5;241m4\u001b[39m)]\n\u001b[0;32m      2\u001b[0m \u001b[38;5;28msum\u001b[39m \u001b[38;5;241m=\u001b[39m \u001b[38;5;241m0\u001b[39m\n\u001b[0;32m      3\u001b[0m \u001b[38;5;28;01mfor\u001b[39;00m n \u001b[38;5;129;01min\u001b[39;00m lst:\n",
      "\u001b[1;31mZeroDivisionError\u001b[0m: integer division or modulo by zero"
     ]
    }
   ],
   "source": [
    "lst = [i // i for i in range(0,4)]\n",
    "sum = 0\n",
    "for n in lst:\n",
    "    sum += n\n",
    "print(sum)"
   ]
  },
  {
   "cell_type": "markdown",
   "metadata": {},
   "source": [
    "#### Question 18"
   ]
  },
  {
   "cell_type": "markdown",
   "metadata": {},
   "source": [
    "How many stars (*) will the following snippet send to the console?\n",
    "```python\n",
    "lst = [[c for c in range(r)] for r in range(3)]\n",
    "for x in lst:\n",
    "    for y in x:\n",
    "        if y < 2:\n",
    "            print('*', end='')\n",
    "```\n",
    "1. One\n",
    "1. Two\n",
    "1. Three\n",
    "1. Four\n",
    "1. The program will cause a runtime exception/error"
   ]
  },
  {
   "cell_type": "code",
   "execution_count": 20,
   "metadata": {},
   "outputs": [
    {
     "name": "stdout",
     "output_type": "stream",
     "text": [
      "***"
     ]
    }
   ],
   "source": [
    "lst = [[c for c in range(r)] for r in range(3)]\n",
    "for x in lst:\n",
    "    for y in x:\n",
    "        if y < 2:\n",
    "            print('*', end='')"
   ]
  },
  {
   "cell_type": "markdown",
   "metadata": {},
   "source": [
    "#### Question 19"
   ]
  },
  {
   "cell_type": "markdown",
   "metadata": {},
   "source": [
    "What would you insert instead of ??? so that the program prints `1024` to the monitor?\n",
    "```python\n",
    "lst = [2 ** x for x in range(0, 11)]\n",
    "print(lst???)\n",
    "```\n",
    "1. [0]\n",
    "1. [1]\n",
    "1. [-1]\n",
    "1. [1024]\n",
    "1. [:]"
   ]
  },
  {
   "cell_type": "code",
   "execution_count": 21,
   "metadata": {},
   "outputs": [
    {
     "name": "stdout",
     "output_type": "stream",
     "text": [
      "1024\n"
     ]
    }
   ],
   "source": [
    "lst = [2 ** x for x in range(0, 11)]\n",
    "print(lst[-1])"
   ]
  },
  {
   "cell_type": "markdown",
   "metadata": {},
   "source": [
    "#### Question 20"
   ]
  },
  {
   "cell_type": "markdown",
   "metadata": {},
   "source": [
    "What is the expected output of the following snippet?\n",
    "```python\n",
    "lst1 = \"12,34\"\n",
    "lst2 = lst1.split(',')\n",
    "print(len(lst1) < len(lst2))\n",
    "```\n",
    "1. True\n",
    "1. False\n",
    "1. None\n",
    "1. The program will cause a runtime exception/error"
   ]
  },
  {
   "cell_type": "code",
   "execution_count": 22,
   "metadata": {},
   "outputs": [
    {
     "name": "stdout",
     "output_type": "stream",
     "text": [
      "False\n"
     ]
    }
   ],
   "source": [
    "lst1 = \"12,34\"\n",
    "lst2 = lst1.split(',')\n",
    "print(len(lst1) < len(lst2))"
   ]
  },
  {
   "cell_type": "markdown",
   "metadata": {},
   "source": [
    "#### Question 21"
   ]
  },
  {
   "cell_type": "markdown",
   "metadata": {},
   "source": [
    "What is the expected behavior of the following snippet?\n",
    "```python\n",
    "def fun(a, b=0, c=5, d=1):\n",
    "    return a ** b ** c\n",
    "\n",
    "print(fun(b=2, a=2, c=3))\n",
    "\n",
    "```\n",
    "It will:\n",
    "\n",
    "1. print `5`\n",
    "1. print `64`\n",
    "1. print `256`\n",
    "1. print `512`\n",
    "1. The program will cause a runtime exception/error"
   ]
  },
  {
   "cell_type": "code",
   "execution_count": 23,
   "metadata": {},
   "outputs": [
    {
     "name": "stdout",
     "output_type": "stream",
     "text": [
      "256\n"
     ]
    }
   ],
   "source": [
    "def fun(a, b=0, c=5, d=1):\n",
    "    return a ** b ** c\n",
    "\n",
    "print(fun(b=2, a=2, c=3))"
   ]
  },
  {
   "cell_type": "markdown",
   "metadata": {},
   "source": [
    "#### Question 22"
   ]
  },
  {
   "cell_type": "markdown",
   "metadata": {},
   "source": [
    "What is the expected behavior of the following snippet?\n",
    "```python\n",
    "x = 5\n",
    "f = lambda x: 1 + 2\n",
    "print(f(x))\n",
    "```\n",
    "It will:\n",
    "\n",
    "1. print `5`\n",
    "1. print `8`\n",
    "1. print `3`\n",
    "1. The program will cause a runtime exception/error"
   ]
  },
  {
   "cell_type": "code",
   "execution_count": 24,
   "metadata": {},
   "outputs": [
    {
     "name": "stdout",
     "output_type": "stream",
     "text": [
      "3\n"
     ]
    }
   ],
   "source": [
    "x = 5\n",
    "f = lambda x: 1 + 2\n",
    "print(f(x))"
   ]
  },
  {
   "cell_type": "markdown",
   "metadata": {},
   "source": [
    "#### Question 23"
   ]
  },
  {
   "cell_type": "markdown",
   "metadata": {},
   "source": [
    "What can we deduce from the following snippet? Select the true sentences. (select all that apply)\n",
    "```python\n",
    "from math import pi as xyz # line 01\n",
    "print(pi) # line 02\n",
    "```\n",
    "1. The program will print the mathematical constant π = 3.141592..., to available precision\n",
    "1. The program will cause a runtime exception/error\n",
    "1. The program makes an alias for the name `pi` in the form of `xyz`\n",
    "1. The original name `pi` will become inaccessible\n",
    "1. Replacing line 02 with `print(xyz)` will cause the program to run without errors"
   ]
  },
  {
   "cell_type": "code",
   "execution_count": 25,
   "metadata": {},
   "outputs": [
    {
     "ename": "NameError",
     "evalue": "name 'pi' is not defined",
     "output_type": "error",
     "traceback": [
      "\u001b[1;31m---------------------------------------------------------------------------\u001b[0m",
      "\u001b[1;31mNameError\u001b[0m                                 Traceback (most recent call last)",
      "Cell \u001b[1;32mIn[25], line 2\u001b[0m\n\u001b[0;32m      1\u001b[0m \u001b[38;5;28;01mfrom\u001b[39;00m \u001b[38;5;21;01mmath\u001b[39;00m \u001b[38;5;28;01mimport\u001b[39;00m pi \u001b[38;5;28;01mas\u001b[39;00m xyz\n\u001b[1;32m----> 2\u001b[0m \u001b[38;5;28mprint\u001b[39m(\u001b[43mpi\u001b[49m)\n",
      "\u001b[1;31mNameError\u001b[0m: name 'pi' is not defined"
     ]
    }
   ],
   "source": [
    "from math import pi as xyz\n",
    "print(pi)"
   ]
  },
  {
   "cell_type": "markdown",
   "metadata": {},
   "source": [
    "#### Question 24"
   ]
  },
  {
   "cell_type": "markdown",
   "metadata": {},
   "source": [
    "What is true about the `__init__.py` file? (Select all that apply)\n",
    "- A. It cannot be an empty file\n",
    "- B. It can execute an initialization code for a package\n",
    "- C. It is required to make Python treat a given directory as a Python package directory\n",
    "- D. It is required to make Python treat a given directory containing packages as a directory without packages"
   ]
  },
  {
   "cell_type": "markdown",
   "metadata": {},
   "source": [
    "**Answer**  \n",
    "B and C\n",
    "\n",
    "**Explanation**  \n",
    "In order for Python to treat a directory as a package, it must contain a file named `__init__.py`. This initialisation file can either be empty, or hold Python code that is executed when that package is initialised. But in either case, the file must exist for that directory to be treated as a package."
   ]
  },
  {
   "cell_type": "markdown",
   "metadata": {},
   "source": [
    "#### Question 25"
   ]
  },
  {
   "cell_type": "markdown",
   "metadata": {},
   "source": [
    "What is the expected behavior of the following code snippet?\n",
    "```python\n",
    "from random import randint\n",
    "for i in range(10):\n",
    "    print(random(1, 5))\n",
    "```\n",
    "1. The program will generate a sequence of ten (pseudo)random integers from 1 to 5\n",
    "1. The program will generate a sequence of ten (pseudo)random integers from 1 to 4\n",
    "1. The program will generate a sequence of ten (pseudo)random numbers from 1 to 5\n",
    "1. The program will generate a sequence of ten (pseudo)random numbers from 1 to 4\n",
    "1. The result cannot be predicted\n",
    "1. The program will cause a runtime exception/error"
   ]
  },
  {
   "cell_type": "code",
   "execution_count": 26,
   "metadata": {},
   "outputs": [
    {
     "ename": "NameError",
     "evalue": "name 'random' is not defined",
     "output_type": "error",
     "traceback": [
      "\u001b[1;31m---------------------------------------------------------------------------\u001b[0m",
      "\u001b[1;31mNameError\u001b[0m                                 Traceback (most recent call last)",
      "Cell \u001b[1;32mIn[26], line 3\u001b[0m\n\u001b[0;32m      1\u001b[0m \u001b[38;5;28;01mfrom\u001b[39;00m \u001b[38;5;21;01mrandom\u001b[39;00m \u001b[38;5;28;01mimport\u001b[39;00m randint\n\u001b[0;32m      2\u001b[0m \u001b[38;5;28;01mfor\u001b[39;00m i \u001b[38;5;129;01min\u001b[39;00m \u001b[38;5;28mrange\u001b[39m(\u001b[38;5;241m10\u001b[39m):\n\u001b[1;32m----> 3\u001b[0m     \u001b[38;5;28mprint\u001b[39m(\u001b[43mrandom\u001b[49m(\u001b[38;5;241m1\u001b[39m, \u001b[38;5;241m5\u001b[39m))\n",
      "\u001b[1;31mNameError\u001b[0m: name 'random' is not defined"
     ]
    }
   ],
   "source": [
    "from random import randint\n",
    "for i in range(10):\n",
    "    print(random(1, 5))"
   ]
  },
  {
   "cell_type": "markdown",
   "metadata": {},
   "source": [
    "#### Question 26"
   ]
  },
  {
   "cell_type": "markdown",
   "metadata": {},
   "source": [
    "What is the expected behavior of the following snippet?\n",
    "```python\n",
    "x = 1 # line 1\n",
    "def a(x): # line 2\n",
    "    return 2 * x # line 3\n",
    "x = 2 + a(x) # line 4\n",
    "print(a(x)) # line 5\n",
    "```\n",
    "It will:\n",
    "\n",
    "1. print `8`\n",
    "1. print `4`\n",
    "1. print `6`\n",
    "1. Cause a runtime exception on line 4\n",
    "1. Cause a runtime exception on line 5"
   ]
  },
  {
   "cell_type": "code",
   "execution_count": 27,
   "metadata": {},
   "outputs": [
    {
     "name": "stdout",
     "output_type": "stream",
     "text": [
      "8\n"
     ]
    }
   ],
   "source": [
    "x = 1 # line 1\n",
    "def a(x): # line 2\n",
    "    return 2 * x # line 3\n",
    "x = 2 + a(x) # line 4\n",
    "print(a(x)) # line 5"
   ]
  },
  {
   "cell_type": "markdown",
   "metadata": {},
   "source": [
    "#### Question 27"
   ]
  },
  {
   "cell_type": "markdown",
   "metadata": {},
   "source": [
    "What is the expected behavior of the following snippet?\n",
    "```python\n",
    "a = 'hello' # line 1\n",
    "def x(a,b): # line 2\n",
    "    z = a[0] # line 3\n",
    "    return z # line 4\n",
    "print(x(a)) # line 5\n",
    "```\n",
    "It will:\n",
    "\n",
    "1. print `hello`\n",
    "1. print `h`\n",
    "1. print `ello`\n",
    "1. Cause a runtime exception on line 2\n",
    "1. Cause a runtime exception on line 3\n",
    "1. Cause a runtime exception on line 4\n",
    "1. Cause a runtime exception on line 5"
   ]
  },
  {
   "cell_type": "code",
   "execution_count": 28,
   "metadata": {},
   "outputs": [
    {
     "ename": "TypeError",
     "evalue": "x() missing 1 required positional argument: 'b'",
     "output_type": "error",
     "traceback": [
      "\u001b[1;31m---------------------------------------------------------------------------\u001b[0m",
      "\u001b[1;31mTypeError\u001b[0m                                 Traceback (most recent call last)",
      "Cell \u001b[1;32mIn[28], line 5\u001b[0m\n\u001b[0;32m      3\u001b[0m     z \u001b[38;5;241m=\u001b[39m a[\u001b[38;5;241m0\u001b[39m] \u001b[38;5;66;03m# line 3\u001b[39;00m\n\u001b[0;32m      4\u001b[0m     \u001b[38;5;28;01mreturn\u001b[39;00m z \u001b[38;5;66;03m# line 4\u001b[39;00m\n\u001b[1;32m----> 5\u001b[0m \u001b[38;5;28mprint\u001b[39m(\u001b[43mx\u001b[49m\u001b[43m(\u001b[49m\u001b[43ma\u001b[49m\u001b[43m)\u001b[49m) \u001b[38;5;66;03m# line 5\u001b[39;00m\n",
      "\u001b[1;31mTypeError\u001b[0m: x() missing 1 required positional argument: 'b'"
     ]
    }
   ],
   "source": [
    "a = 'hello' # line 1\n",
    "def x(a,b): # line 2\n",
    "    z = a[0] # line 3\n",
    "    return z # line 4\n",
    "print(x(a)) # line 5"
   ]
  },
  {
   "cell_type": "markdown",
   "metadata": {},
   "source": [
    "#### Question 28"
   ]
  },
  {
   "cell_type": "markdown",
   "metadata": {},
   "source": [
    "What is the expected behavior of the following snippet?\n",
    "```python\n",
    "s = 'SPAM'\n",
    "def f(x):\n",
    "    return s + 'MAPS'\n",
    "print(f(s))\n",
    "```\n",
    "\n",
    "1. It will print: `SPAM`\n",
    "1. It will print: `MAPS`\n",
    "1. It will print: `None`\n",
    "1. It will print: `SPAMMAPS`\n",
    "1. It will print: `SPAM MAPS`\n",
    "1. It will cause a runtime exception/error\n",
    "1. It will print an empty line"
   ]
  },
  {
   "cell_type": "code",
   "execution_count": 29,
   "metadata": {},
   "outputs": [
    {
     "name": "stdout",
     "output_type": "stream",
     "text": [
      "SPAMMAPS\n"
     ]
    }
   ],
   "source": [
    "s = 'SPAM'\n",
    "def f(x):\n",
    "    return s + 'MAPS'\n",
    "print(f(s))"
   ]
  },
  {
   "cell_type": "markdown",
   "metadata": {},
   "source": [
    "#### Question 29"
   ]
  },
  {
   "cell_type": "markdown",
   "metadata": {},
   "source": [
    "Select the true statements: (select all that apply)\n",
    "- A. Positional arguments are also called keyword arguments\n",
    "- B. The order of arguments matters when they are passed positionally\n",
    "- C. The order of arguments matters when they are passed by their name\n",
    "- D. A function can be called with a mix of positional and keyword arguments"
   ]
  },
  {
   "cell_type": "markdown",
   "metadata": {},
   "source": [
    "**Answer**  \n",
    "B and D\n",
    "\n",
    "**Explanation**  \n",
    "Unless we are using Keyword Arguments to send arguments to functions, then the order of the arguments (referred to as positional arguments) is important and must match the order defined in the function header. Furthermore, when calling a function, it must be called with the correct number of arguments as defined in the function header. If not, a TypeError exception is raised. Finally Python allows us to call a function with a mix of positional and keyword arguments using the / and * operators respectively."
   ]
  },
  {
   "cell_type": "markdown",
   "metadata": {},
   "source": [
    "#### Question 30"
   ]
  },
  {
   "cell_type": "markdown",
   "metadata": {},
   "source": [
    "What is the expected behavior of the following snippet?\n",
    "```python\n",
    "def gen():\n",
    "    lst = range(5)\n",
    "    for i in lst:\n",
    "        yield i*i\n",
    "\n",
    "for i in gen():\n",
    "    print(i, end=\"\")\n",
    "```\n",
    "1. It will print:\n",
    "1. It will print: `014916`\n",
    "1. It will print:\n",
    "    - 0\n",
    "    - 1\n",
    "    - 4\n",
    "    - 9\n",
    "    - 16\n",
    "1. It will cause a runtime exception/error\n",
    "1. It will print an empty line"
   ]
  },
  {
   "cell_type": "code",
   "execution_count": 32,
   "metadata": {},
   "outputs": [
    {
     "name": "stdout",
     "output_type": "stream",
     "text": [
      "014916"
     ]
    }
   ],
   "source": [
    "def gen():\n",
    "    lst = range(5)\n",
    "    for i in lst:\n",
    "        yield i*i\n",
    "\n",
    "for i in gen():\n",
    "    print(i, end=\"\")"
   ]
  },
  {
   "cell_type": "markdown",
   "metadata": {},
   "source": [
    "#### Question 31"
   ]
  },
  {
   "cell_type": "markdown",
   "metadata": {},
   "source": [
    "Select the true statements: (select all that apply)\n",
    "\n",
    "- A. The class keyword marks the beginning of the class definition\n",
    "- B. An object cannot contain any references to other objects\n",
    "- C. A class may define an object\n",
    "- D. A constructor is used to instantiate an object\n",
    "- E. An object variable is a variable that is stored separately in every object"
   ]
  },
  {
   "cell_type": "markdown",
   "metadata": {},
   "source": [
    "**Answer**  \n",
    "A, C and D\n",
    "\n",
    "**Explanation**  \n",
    "We create a class using the class keyword followed by the name of the class and then the : colon operator. Instances of classes are called objects, where a special type of methods called a constructor is executed when a new instance of a class is instantiated."
   ]
  },
  {
   "cell_type": "markdown",
   "metadata": {},
   "source": [
    "#### Question 32"
   ]
  },
  {
   "cell_type": "markdown",
   "metadata": {},
   "source": [
    "Select the true statements: (select all that apply)\n",
    "\n",
    "- A. Inheritance means passing attributes and methods from a superclass to a subclass\n",
    "- B. `issubclass(class1, class2)` is an example of a function that returns `True` if `class2` is a subclass of `class1`\n",
    "- C. Multiple inheritance means that a class has more than one superclass\n",
    "- D. Polymorphism is the situation in which a subclass is able to modify its superclass behavior\n",
    "- E. A single inheritance is always more difficult to maintain than a multiple inheritance"
   ]
  },
  {
   "cell_type": "markdown",
   "metadata": {},
   "source": [
    "**Answer**  \n",
    "A, C and D\n",
    "\n",
    "**Explanation**  \n",
    "Inheritance refers to the ability for a class to inherit attributes and methods from a parent class. It is possible for a subclass to inherit from multiple base or superclasses simultaneously, in what is known as multiple inheritance. And overriding refers to the ability of subclasses to inherit methods from a superclass, but to then change the logic of those methods so that the behaviour is specific to that subclass, which is a feature of polymorphism."
   ]
  },
  {
   "cell_type": "markdown",
   "metadata": {},
   "source": [
    "#### Question 33"
   ]
  },
  {
   "cell_type": "markdown",
   "metadata": {},
   "source": [
    "Select the true statements: (select all that apply)\n",
    "\n",
    "- A. A class definition may have any number of constructors, but their names must be unique\n",
    "- B. It is not possible to safely check if an object has a certain attribute\n",
    "- C. A class constructor cannot return a value\n",
    "- D. `__bases__` is a tuple filled with the names of all the direct superclasses\n",
    "- E. `issubclass(c1, c2)` is a function that checks if `c1` is an object derived from class `c2`"
   ]
  },
  {
   "cell_type": "markdown",
   "metadata": {},
   "source": [
    "**Answer**  \n",
    "C and D\n",
    "\n",
    "**Explanation**  \n",
    "A constructor is a special type of method whose method body is executed when a new instance of a class is instantiated, but returns no value. The `__bases__` special attribute, when applied to classes, is a tuple containing the base classes that a given class is inherited from."
   ]
  },
  {
   "cell_type": "markdown",
   "metadata": {},
   "source": [
    "#### Question 34"
   ]
  },
  {
   "cell_type": "markdown",
   "metadata": {},
   "source": [
    "What will happen when you run each of the following code snippets?\n",
    "```python\n",
    "# Example 1\n",
    "x = 1\n",
    "y = 0\n",
    "z = x%y\n",
    "print(z)\n",
    "\n",
    "# Example 2\n",
    "x = 1\n",
    "y = 0\n",
    "z = x/y\n",
    "print(z)\n",
    "```\n",
    "1. A `ZeroDivisionError` exception will be raised in Example 1, while Example 2 will print `0` to the screen\n",
    "1. A `ZeroDivisionError` exception will be raised in Example 2, while Example 1 will print `0` to the screen\n",
    "1. A `ZeroDivisionError` exception will be raised in Example 1 and Example 2\n",
    "1. A `ValueError` exception will be raised in Example 1, and a `ZeroDivisionError` exception will be raised in Example 2\n",
    "1. A `ValueError` exception will be raised in Example 2, and a `ZeroDivisionError` exception will be raised in Example 1"
   ]
  },
  {
   "cell_type": "code",
   "execution_count": 34,
   "metadata": {},
   "outputs": [
    {
     "ename": "ZeroDivisionError",
     "evalue": "integer modulo by zero",
     "output_type": "error",
     "traceback": [
      "\u001b[1;31m---------------------------------------------------------------------------\u001b[0m",
      "\u001b[1;31mZeroDivisionError\u001b[0m                         Traceback (most recent call last)",
      "Cell \u001b[1;32mIn[34], line 4\u001b[0m\n\u001b[0;32m      2\u001b[0m x \u001b[38;5;241m=\u001b[39m \u001b[38;5;241m1\u001b[39m\n\u001b[0;32m      3\u001b[0m y \u001b[38;5;241m=\u001b[39m \u001b[38;5;241m0\u001b[39m\n\u001b[1;32m----> 4\u001b[0m z \u001b[38;5;241m=\u001b[39m \u001b[43mx\u001b[49m\u001b[38;5;241;43m%\u001b[39;49m\u001b[43my\u001b[49m\n\u001b[0;32m      5\u001b[0m \u001b[38;5;28mprint\u001b[39m(z)\n\u001b[0;32m      7\u001b[0m \u001b[38;5;66;03m# Example 2\u001b[39;00m\n",
      "\u001b[1;31mZeroDivisionError\u001b[0m: integer modulo by zero"
     ]
    }
   ],
   "source": [
    "# Example 1\n",
    "x = 1\n",
    "y = 0\n",
    "z = x%y\n",
    "print(z)\n",
    "\n",
    "# Example 2\n",
    "x = 1\n",
    "y = 0\n",
    "z = x/y\n",
    "print(z)"
   ]
  },
  {
   "cell_type": "markdown",
   "metadata": {},
   "source": [
    "#### Question 35"
   ]
  },
  {
   "cell_type": "markdown",
   "metadata": {},
   "source": [
    "What is the expected output of the following code?\n",
    "```python\n",
    "x = 0\n",
    "try:\n",
    "    print(x)\n",
    "    print(1 / x)\n",
    "except ZeroDivisionError:\n",
    "    print(\"ERROR MESSAGE\")\n",
    "finally:\n",
    "    print(x + 1)\n",
    "print(x + 2)\n",
    "```\n",
    "The program will print the following to the screen:\n",
    "\n",
    "1. - 1\n",
    "   - 2\n",
    "1. - ERROR MESSAGE\n",
    "   - 1\n",
    "   - 2\n",
    "1. - 0\n",
    "   - 2\n",
    "1. - 0\n",
    "   - ERROR MESSAGE\n",
    "   - 1\n",
    "   - 2"
   ]
  },
  {
   "cell_type": "code",
   "execution_count": 35,
   "metadata": {},
   "outputs": [
    {
     "name": "stdout",
     "output_type": "stream",
     "text": [
      "0\n",
      "ERROR MESSAGE\n",
      "1\n",
      "2\n"
     ]
    }
   ],
   "source": [
    "x = 0\n",
    "try:\n",
    "    print(x)\n",
    "    print(1 / x)\n",
    "except ZeroDivisionError:\n",
    "    print(\"ERROR MESSAGE\")\n",
    "finally:\n",
    "    print(x + 1)\n",
    "print(x + 2)"
   ]
  },
  {
   "cell_type": "markdown",
   "metadata": {},
   "source": [
    "#### Question 36"
   ]
  },
  {
   "cell_type": "markdown",
   "metadata": {},
   "source": [
    "The following class hierarchy is given. What is the expected output of the code?\n",
    "```python\n",
    "class A:\n",
    "    def a(self):\n",
    "        print(\"A\", end='')\n",
    "\n",
    "class B(A):\n",
    "    def a(self):\n",
    "        print(\"B\", end='')\n",
    "\n",
    "class C(B):\n",
    "    def b(self):\n",
    "        print(\"B\", end='')\n",
    "\n",
    "a = A()\n",
    "b = B()\n",
    "c = C()\n",
    "\n",
    "a.a()\n",
    "b.a()\n",
    "c.b()\n",
    "```\n",
    "1. AB\n",
    "1. ABB\n",
    "1. BA\n",
    "1. BBA\n",
    "1. AAA\n",
    "1. BBB"
   ]
  },
  {
   "cell_type": "code",
   "execution_count": 36,
   "metadata": {},
   "outputs": [
    {
     "name": "stdout",
     "output_type": "stream",
     "text": [
      "ABB"
     ]
    }
   ],
   "source": [
    "class A:\n",
    "    def a(self):\n",
    "        print(\"A\", end='')\n",
    "\n",
    "class B(A):\n",
    "    def a(self):\n",
    "        print(\"B\", end='')\n",
    "\n",
    "class C(B):\n",
    "    def b(self):\n",
    "        print(\"B\", end='')\n",
    "\n",
    "a = A()\n",
    "b = B()\n",
    "c = C()\n",
    "\n",
    "a.a()\n",
    "b.a()\n",
    "c.b()"
   ]
  },
  {
   "cell_type": "markdown",
   "metadata": {},
   "source": [
    "#### Question 37"
   ]
  },
  {
   "cell_type": "markdown",
   "metadata": {},
   "source": [
    "If the following snippet is executed and the exception is raised\n",
    "```python\n",
    "try:\n",
    "    print(\"Hello\")\n",
    "    raise Exception\n",
    "    print(1/0)\n",
    "except Exception as e:\n",
    "    print(e)\n",
    "```\n",
    "we will see:\n",
    "\n",
    "1. Two identical non-empty lines\n",
    "1. Two different non-empty lines\n",
    "1. Two empty lines\n",
    "1. One non-empty line and one empty line"
   ]
  },
  {
   "cell_type": "code",
   "execution_count": 37,
   "metadata": {},
   "outputs": [
    {
     "name": "stdout",
     "output_type": "stream",
     "text": [
      "Hello\n",
      "\n"
     ]
    }
   ],
   "source": [
    "try:\n",
    "    print(\"Hello\")\n",
    "    raise Exception\n",
    "    print(1/0)\n",
    "except Exception as e:\n",
    "    print(e)"
   ]
  },
  {
   "cell_type": "markdown",
   "metadata": {},
   "source": [
    "#### Question 38"
   ]
  },
  {
   "cell_type": "markdown",
   "metadata": {},
   "source": [
    "Is there any difference in the error messages displayed once the two newly defined exceptions `CriticalError` have been raised separately?\n",
    "```python\n",
    "# Example 1\n",
    "class CriticalError(Exception):\n",
    "    def __init__(self, message='ERROR MESSAGE A'):\n",
    "        Exception.__init__(self, message)\n",
    "\n",
    "raise CriticalError\n",
    "raise CriticalError(\"ERROR MESSAGE B\")\n",
    "\n",
    "# Example 2\n",
    "class CriticalError(Exception):\n",
    "    def __init__(self, message='ERROR MESSAGE A'):\n",
    "        Exception.__init__(self, message)\n",
    "\n",
    "raise CriticalError(\"ERROR MESSAGE B\")\n",
    "```\n",
    "1. No, both errors raised will display the same message: `ERROR MESSAGE A`\n",
    "1. No, both errors raised will display the same message: `ERROR MESSAGE B`\n",
    "1. No, both errors raised will display no message\n",
    "1. Yes, the first error raised will display the message `ERROR MESSAGE A`, while the second `ERROR MESSAGE B`\n",
    "1. Yes, the first error raised will display no message, while the second `ERROR MESSAGE B`\n",
    "1. Yes, the first error raised will display no message, while the second `ERROR MESSAGE A`"
   ]
  },
  {
   "cell_type": "code",
   "execution_count": 38,
   "metadata": {},
   "outputs": [
    {
     "ename": "CriticalError",
     "evalue": "ERROR MESSAGE A",
     "output_type": "error",
     "traceback": [
      "\u001b[1;31m---------------------------------------------------------------------------\u001b[0m",
      "\u001b[1;31mCriticalError\u001b[0m                             Traceback (most recent call last)",
      "Cell \u001b[1;32mIn[38], line 6\u001b[0m\n\u001b[0;32m      3\u001b[0m     \u001b[38;5;28;01mdef\u001b[39;00m \u001b[38;5;21m__init__\u001b[39m(\u001b[38;5;28mself\u001b[39m, message\u001b[38;5;241m=\u001b[39m\u001b[38;5;124m'\u001b[39m\u001b[38;5;124mERROR MESSAGE A\u001b[39m\u001b[38;5;124m'\u001b[39m):\n\u001b[0;32m      4\u001b[0m         \u001b[38;5;167;01mException\u001b[39;00m\u001b[38;5;241m.\u001b[39m\u001b[38;5;21m__init__\u001b[39m(\u001b[38;5;28mself\u001b[39m, message)\n\u001b[1;32m----> 6\u001b[0m \u001b[38;5;28;01mraise\u001b[39;00m CriticalError\n\u001b[0;32m      7\u001b[0m \u001b[38;5;28;01mraise\u001b[39;00m CriticalError(\u001b[38;5;124m\"\u001b[39m\u001b[38;5;124mERROR MESSAGE B\u001b[39m\u001b[38;5;124m\"\u001b[39m)\n",
      "\u001b[1;31mCriticalError\u001b[0m: ERROR MESSAGE A"
     ]
    }
   ],
   "source": [
    "# Example 1\n",
    "class CriticalError(Exception):\n",
    "    def __init__(self, message='ERROR MESSAGE A'):\n",
    "        Exception.__init__(self, message)\n",
    "\n",
    "raise CriticalError\n",
    "raise CriticalError(\"ERROR MESSAGE B\")"
   ]
  },
  {
   "cell_type": "code",
   "execution_count": 39,
   "metadata": {},
   "outputs": [
    {
     "ename": "CriticalError",
     "evalue": "ERROR MESSAGE B",
     "output_type": "error",
     "traceback": [
      "\u001b[1;31m---------------------------------------------------------------------------\u001b[0m",
      "\u001b[1;31mCriticalError\u001b[0m                             Traceback (most recent call last)",
      "Cell \u001b[1;32mIn[39], line 6\u001b[0m\n\u001b[0;32m      3\u001b[0m     \u001b[38;5;28;01mdef\u001b[39;00m \u001b[38;5;21m__init__\u001b[39m(\u001b[38;5;28mself\u001b[39m, message\u001b[38;5;241m=\u001b[39m\u001b[38;5;124m'\u001b[39m\u001b[38;5;124mERROR MESSAGE A\u001b[39m\u001b[38;5;124m'\u001b[39m):\n\u001b[0;32m      4\u001b[0m         \u001b[38;5;167;01mException\u001b[39;00m\u001b[38;5;241m.\u001b[39m\u001b[38;5;21m__init__\u001b[39m(\u001b[38;5;28mself\u001b[39m, message)\n\u001b[1;32m----> 6\u001b[0m \u001b[38;5;28;01mraise\u001b[39;00m CriticalError(\u001b[38;5;124m\"\u001b[39m\u001b[38;5;124mERROR MESSAGE B\u001b[39m\u001b[38;5;124m\"\u001b[39m)\n",
      "\u001b[1;31mCriticalError\u001b[0m: ERROR MESSAGE B"
     ]
    }
   ],
   "source": [
    "# Example 2\n",
    "class CriticalError(Exception):\n",
    "    def __init__(self, message='ERROR MESSAGE A'):\n",
    "        Exception.__init__(self, message)\n",
    "\n",
    "raise CriticalError(\"ERROR MESSAGE B\")\n"
   ]
  },
  {
   "cell_type": "markdown",
   "metadata": {},
   "source": [
    "#### Question 39"
   ]
  },
  {
   "cell_type": "markdown",
   "metadata": {},
   "source": [
    "You want to access the `test.txt` file and retrieve each line in it. Which option will you use? (Select all that apply)\n",
    "```python\n",
    "file = open(test.txt)\n",
    "# insert code here\n",
    "file.close()\n",
    "```\n",
    "1. `print(file.readlines())`\n",
    "1. `print(readlines(file))`\n",
    "1. `print(file.readlines(:)`\n",
    "1. ```python \n",
    "   for l in file:\n",
    "       print(l)\n",
    "   ```\n",
    "2. `print(file.lines())`\n",
    "3. `print(file.read())`\n",
    "4. `print(read.file(test.txt))`"
   ]
  },
  {
   "cell_type": "markdown",
   "metadata": {},
   "source": [
    "**Answer**  \n",
    "A, D and F\n",
    "\n",
    "**Explanation**  \n",
    "The method `file.readlines()` returns a list containing each line in a file as a list item. The method `file.read()` without a size argument will read the entire contents of a file."
   ]
  },
  {
   "cell_type": "markdown",
   "metadata": {},
   "source": [
    "#### Question 40"
   ]
  },
  {
   "cell_type": "markdown",
   "metadata": {},
   "source": [
    "The following code snippet when run\n",
    "```python\n",
    "f = open(\"file.txt\", \"w\")\n",
    "f.close()\n",
    "```\n",
    "will (select all that apply):\n",
    "\n",
    "1. Open the file `file.txt` in write mode\n",
    "1. Delete the file contents if the file `file.txt` already exists\n",
    "1. Leave the file contents unchanged if the file `file.txt` already exists\n",
    "1. Create the file `file.txt` if it does not exist\n",
    "1. Raise the `FileNotFoundError` exception if the file does not exist"
   ]
  },
  {
   "cell_type": "markdown",
   "metadata": {},
   "source": [
    "**Answer**  \n",
    "A, B and D\n",
    "\n",
    "**Explanation**  \n",
    "To write to a file in Python, we first invoke the Python `open()` function in either write-mode `'w'`, append-mode `'a'` or exclusive creation mode `'x'`. Both write-mode and append-mode are used to write to existing files, but the key difference is that in write-mode, the contents of the file will be ovewritten if the file already exists, whereas in append-mode the file will be appended to. In both cases, if the files does not already exist then the file is created."
   ]
  },
  {
   "cell_type": "markdown",
   "metadata": {},
   "source": [
    "### References\n",
    "- https://knowledgebase.hyperlearning.ai/courses/introduction-to-python/modules/11/pcap-practice-exam/\n",
    "- https://github.com/hyperlearningai/introduction-to-python/blob/master/11.%20PCAP%20Practice%20Exam.ipynb"
   ]
  }
 ],
 "metadata": {
  "kernelspec": {
   "display_name": "Python 3",
   "language": "python",
   "name": "python3"
  },
  "language_info": {
   "codemirror_mode": {
    "name": "ipython",
    "version": 3
   },
   "file_extension": ".py",
   "mimetype": "text/x-python",
   "name": "python",
   "nbconvert_exporter": "python",
   "pygments_lexer": "ipython3",
   "version": "3.12.8"
  }
 },
 "nbformat": 4,
 "nbformat_minor": 2
}

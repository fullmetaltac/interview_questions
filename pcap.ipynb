{
 "cells": [
  {
   "cell_type": "markdown",
   "metadata": {},
   "source": [
    "## Certified Associate in Python Programming (PCAP)"
   ]
  },
  {
   "cell_type": "markdown",
   "metadata": {},
   "source": [
    "### Examination paper (PCAP-31-02)"
   ]
  },
  {
   "cell_type": "markdown",
   "metadata": {},
   "source": [
    "#### Question 1  "
   ]
  },
  {
   "cell_type": "markdown",
   "metadata": {},
   "source": [
    "The following expression  \n",
    "```python\n",
    "2 ** 3 ** 2 ** 1\n",
    "```\n",
    "is:\n",
    "1. Invalid\n",
    "1. Equal to 16\n",
    "1. Equal to 16.0\n",
    "1. Equal to 512\n",
    "1. Equal to 64\n",
    "1. Equal to 128.0"
   ]
  },
  {
   "cell_type": "code",
   "execution_count": 1,
   "metadata": {},
   "outputs": [
    {
     "data": {
      "text/plain": [
       "512"
      ]
     },
     "execution_count": 1,
     "metadata": {},
     "output_type": "execute_result"
    }
   ],
   "source": [
    "2 ** 3 ** 2 ** 1"
   ]
  },
  {
   "cell_type": "markdown",
   "metadata": {},
   "source": [
    "#### Question 2"
   ]
  },
  {
   "cell_type": "markdown",
   "metadata": {},
   "source": [
    "If you want to build a string that reads:  \n",
    "```\n",
    "Peter's sister's name's \"Anna\"\n",
    "```\n",
    "which of the following literals would you use? (Select all that apply)\n",
    "1. \"Peter's sister's name's \\\"Anna\\\"\"\n",
    "1. 'Peter\\'s sister\\'s name\\'s \\\"Anna\\\"'\n",
    "1. \"Peter's sister's name's \"Anna\"\"\n",
    "1. 'Peter's sister's name's \"Anna\"'"
   ]
  },
  {
   "cell_type": "code",
   "execution_count": 2,
   "metadata": {},
   "outputs": [
    {
     "name": "stdout",
     "output_type": "stream",
     "text": [
      "Peter's sister's name's \"Anna\"\n",
      "Peter's sister's name's \"Anna\"\n"
     ]
    }
   ],
   "source": [
    "print(\"Peter's sister's name's \\\"Anna\\\"\")\n",
    "print('Peter\\'s sister\\'s name\\'s \\\"Anna\\\"')"
   ]
  },
  {
   "cell_type": "markdown",
   "metadata": {},
   "source": [
    "#### Question 3"
   ]
  },
  {
   "cell_type": "markdown",
   "metadata": {},
   "source": [
    "What is the expected output of the following snippet?\n",
    "```python\n",
    "i = 250\n",
    "while len(str(i)) > 72:\n",
    "    i *= 2\n",
    "else:\n",
    "    i //= 2\n",
    "print(i)\n",
    "```\n",
    "1. 125\n",
    "1. 250\n",
    "1. 72\n",
    "1. 500"
   ]
  },
  {
   "cell_type": "code",
   "execution_count": 3,
   "metadata": {},
   "outputs": [
    {
     "name": "stdout",
     "output_type": "stream",
     "text": [
      "125\n"
     ]
    }
   ],
   "source": [
    "i = 250\n",
    "while len(str(i)) > 72:\n",
    "    i *= 2\n",
    "else:\n",
    "    i //= 2\n",
    "print(i)"
   ]
  },
  {
   "cell_type": "markdown",
   "metadata": {},
   "source": [
    "#### Question 4"
   ]
  },
  {
   "cell_type": "markdown",
   "metadata": {},
   "source": [
    "What snippet would you insert in the line indicated below:\n",
    "```python\n",
    "n = 0\n",
    "while n < 4:\n",
    "    n += 1\n",
    "    # insert your code here\n",
    "```\n",
    "to print the following string to the monitor after the loop finishes its execution:\n",
    "```\n",
    "1 2 3 4\n",
    "```\n",
    "1. print(n)\n",
    "1. print(n, sep=\" \")\n",
    "1. print(n, end=\" \")\n",
    "1. print(n, \" \")"
   ]
  },
  {
   "cell_type": "code",
   "execution_count": 4,
   "metadata": {},
   "outputs": [
    {
     "name": "stdout",
     "output_type": "stream",
     "text": [
      "1 2 3 4 "
     ]
    }
   ],
   "source": [
    "n = 0\n",
    "while n < 4:\n",
    "    n += 1\n",
    "    print(n, end=\" \")"
   ]
  },
  {
   "cell_type": "markdown",
   "metadata": {},
   "source": [
    "#### Question 5"
   ]
  },
  {
   "cell_type": "markdown",
   "metadata": {},
   "source": [
    "What is the value type returned after executing the following snippet?\n",
    "```python\n",
    "x = 0\n",
    "y = 2\n",
    "z = len(\"Python\")\n",
    "x = y > z\n",
    "print(x)\n",
    "```\n",
    "1. int\n",
    "1. float\n",
    "1. str\n",
    "1. bool\n",
    "1. NoneType"
   ]
  },
  {
   "cell_type": "code",
   "execution_count": 5,
   "metadata": {},
   "outputs": [
    {
     "name": "stdout",
     "output_type": "stream",
     "text": [
      "False\n",
      "<class 'bool'>\n"
     ]
    }
   ],
   "source": [
    "x = 0\n",
    "y = 2\n",
    "z = len(\"Python\")\n",
    "x = y > z\n",
    "print(x)\n",
    "print(type(x))"
   ]
  },
  {
   "cell_type": "markdown",
   "metadata": {},
   "source": [
    "#### Question 6"
   ]
  },
  {
   "cell_type": "markdown",
   "metadata": {},
   "source": [
    "What will the final value of the **Val** variable be when the following snippet finishes its execution?\n",
    "```python\n",
    "Val = 1\n",
    "Val2 = 0\n",
    "Val = Val ^ Val2\n",
    "Val2 = Val ^ Val2\n",
    "Val = Val ^ Val2\n",
    "```\n",
    "1. 0\n",
    "1. 1\n",
    "1. 2\n",
    "1. 4\n",
    "1. The code is erroneous"
   ]
  },
  {
   "cell_type": "code",
   "execution_count": 6,
   "metadata": {},
   "outputs": [
    {
     "name": "stdout",
     "output_type": "stream",
     "text": [
      "0\n"
     ]
    }
   ],
   "source": [
    "Val = 1\n",
    "Val2 = 0\n",
    "Val = Val ^ Val2\n",
    "Val2 = Val ^ Val2\n",
    "Val = Val ^ Val2\n",
    "print(Val)"
   ]
  },
  {
   "cell_type": "markdown",
   "metadata": {},
   "source": [
    "#### Question 7"
   ]
  },
  {
   "cell_type": "markdown",
   "metadata": {},
   "source": [
    "Which line can be used instead of the comment to cause the snippet to produce the following expected output? (Select all that apply)\n",
    "```python\n",
    "z, y, x = 2, 1, 0\n",
    "x, z = z, y\n",
    "y = y - z\n",
    "# put line here\n",
    "print(x, y, z)\n",
    "```\n",
    "Expected output:\n",
    "```\n",
    "0, 1, 2\n",
    "```\n",
    "1. x, y, z = y, z, x\n",
    "1. z, y, x = x, z, y\n",
    "1. y, z, x = x, y, z\n",
    "1. The code is erroneous"
   ]
  },
  {
   "cell_type": "code",
   "execution_count": 7,
   "metadata": {},
   "outputs": [
    {
     "name": "stdout",
     "output_type": "stream",
     "text": [
      "0 1 2\n"
     ]
    }
   ],
   "source": [
    "z, y, x = 2, 1, 0\n",
    "x, z = z, y\n",
    "y = y - z\n",
    "x, y, z = y, z, x\n",
    "print(x, y, z)"
   ]
  },
  {
   "cell_type": "markdown",
   "metadata": {},
   "source": [
    "#### Question 8"
   ]
  },
  {
   "cell_type": "markdown",
   "metadata": {},
   "source": [
    "What is the expected output of the following snippet?\n",
    "```python\n",
    "a = 0\n",
    "b = a ** 0\n",
    "if b < a + 1:\n",
    "    c = 1\n",
    "elif b == 1:\n",
    "    c = 2\n",
    "else:\n",
    "    c = 3\n",
    "print(a + b + c)\n",
    "```\n",
    "1. 1\n",
    "1. 2\n",
    "1. 3\n",
    "1. The code is erroneous"
   ]
  },
  {
   "cell_type": "code",
   "execution_count": 8,
   "metadata": {},
   "outputs": [
    {
     "name": "stdout",
     "output_type": "stream",
     "text": [
      "3\n"
     ]
    }
   ],
   "source": [
    "a = 0\n",
    "b = a ** 0\n",
    "if b < a + 1:\n",
    "    c = 1\n",
    "elif b == 1:\n",
    "    c = 2\n",
    "else:\n",
    "    c = 3\n",
    "print(a + b + c)"
   ]
  },
  {
   "cell_type": "markdown",
   "metadata": {},
   "source": [
    "#### Question 9"
   ]
  },
  {
   "cell_type": "markdown",
   "metadata": {},
   "source": [
    "How many stars (*) does the following snippet print?\n",
    "```python\n",
    "i = 10\n",
    "while i > 0 :\n",
    "    i -= 3\n",
    "    print(\"*\")\n",
    "    if i <= 3:\n",
    "        break\n",
    "else:\n",
    "    print(\"*\")\n",
    "```\n",
    "1. Three\n",
    "1. Two\n",
    "1. One\n",
    "1. The code is erroneous"
   ]
  },
  {
   "cell_type": "code",
   "execution_count": 9,
   "metadata": {},
   "outputs": [
    {
     "name": "stdout",
     "output_type": "stream",
     "text": [
      "*\n",
      "*\n",
      "*\n"
     ]
    }
   ],
   "source": [
    "i = 10\n",
    "while i > 0 :\n",
    "    i -= 3\n",
    "    print(\"*\")\n",
    "    if i <= 3:\n",
    "        break\n",
    "else:\n",
    "    print(\"*\")"
   ]
  },
  {
   "cell_type": "markdown",
   "metadata": {},
   "source": [
    "#### Question 10"
   ]
  },
  {
   "cell_type": "markdown",
   "metadata": {},
   "source": [
    "How many lines does each of the following code examples output when run separately?\n",
    "```python\n",
    "# Example 1\n",
    "for i in range(1, 4, 2):\n",
    "    print(\"*\")\n",
    "\n",
    "# Example 2\n",
    "for i in range(1, 4, 2):\n",
    "    print(\"*\", end=\"\")\n",
    "\n",
    "# Example 3\n",
    "for i in range(1, 4, 2):\n",
    "    print(\"*\", end=\"**\")\n",
    "\n",
    "# Example 4\n",
    "for i in range(1, 4, 2):\n",
    "    print(\"*\", end=\"**\")\n",
    "print(\"***\")\n",
    "```\n",
    "1. Example 1: two, Example 2: one, Example 3: one, Example 4: one\n",
    "1. Example 1: two, Example 2: one, Example 3: one, Example 4: two\n",
    "1. Example 1: two, Example 2: one, Example 3: two, Example 4: three\n",
    "1. Example 1: one, Example 2: one, Example 3: one, Example 4: two"
   ]
  },
  {
   "cell_type": "code",
   "execution_count": 10,
   "metadata": {},
   "outputs": [
    {
     "name": "stdout",
     "output_type": "stream",
     "text": [
      "*\n",
      "*\n"
     ]
    }
   ],
   "source": [
    "# Example 1\n",
    "for i in range(1, 4, 2):\n",
    "    print(\"*\")"
   ]
  },
  {
   "cell_type": "code",
   "execution_count": 11,
   "metadata": {},
   "outputs": [
    {
     "name": "stdout",
     "output_type": "stream",
     "text": [
      "**"
     ]
    }
   ],
   "source": [
    "# Example 2\n",
    "for i in range(1, 4, 2):\n",
    "    print(\"*\", end=\"\")"
   ]
  },
  {
   "cell_type": "code",
   "execution_count": 12,
   "metadata": {},
   "outputs": [
    {
     "name": "stdout",
     "output_type": "stream",
     "text": [
      "******"
     ]
    }
   ],
   "source": [
    "# Example 3\n",
    "for i in range(1, 4, 2):\n",
    "    print(\"*\", end=\"**\")"
   ]
  },
  {
   "cell_type": "code",
   "execution_count": 13,
   "metadata": {},
   "outputs": [
    {
     "name": "stdout",
     "output_type": "stream",
     "text": [
      "*********\n"
     ]
    }
   ],
   "source": [
    "# Example 4\n",
    "for i in range(1, 4, 2):\n",
    "    print(\"*\", end=\"**\")\n",
    "print(\"***\")"
   ]
  },
  {
   "cell_type": "markdown",
   "metadata": {},
   "source": [
    "#### Question 11"
   ]
  },
  {
   "cell_type": "markdown",
   "metadata": {},
   "source": [
    "Which of the following statements are true? (Select all that apply)\n",
    "\n",
    "- A. UNICODE is the name of an operating system\n",
    "- B. UTF-8 is the name of a data transmission device\n",
    "- C. ASCII is an acronym for Automatic Systems of Computer Inner Interoperability\n",
    "- D. The Python Language Reference is the official reference manual that describes the syntax and semantics of the Python language\n",
    "- E. Python strings are immutable, which means they cannot be sliced\n",
    "- F. Python strings are mutable, which means they can be sliced\n",
    "- G. Lists and strings in Python can be sliced"
   ]
  },
  {
   "cell_type": "markdown",
   "metadata": {},
   "source": [
    "Answer\n",
    "D and G\n",
    "\n",
    "Explanation\n",
    "Unicode is a universal character set. UTF-8 is the name of an encoding for all characters in the Unicode standard. ASCII stands for American Standard Code for Information Interchange. Though string objects are indeed immutable, they are still sequences of characters and hence may be sliced, resulting in a new string object being returned. Lists and strings are both sequences and hence may be sliced."
   ]
  },
  {
   "cell_type": "markdown",
   "metadata": {},
   "source": [
    "#### Question 12"
   ]
  },
  {
   "cell_type": "markdown",
   "metadata": {},
   "source": [
    "What is the result of the following comparison?\n",
    "```python\n",
    "x = \"20\"\n",
    "y = \"30\"\n",
    "print(x > y)\n",
    "```\n",
    "1. True\n",
    "1. False\n",
    "1. None\n",
    "1. The comparison causes a runtime exception/error"
   ]
  },
  {
   "cell_type": "code",
   "execution_count": 14,
   "metadata": {},
   "outputs": [
    {
     "name": "stdout",
     "output_type": "stream",
     "text": [
      "False\n"
     ]
    }
   ],
   "source": [
    "x = \"20\"\n",
    "y = \"30\"\n",
    "print(x > y)"
   ]
  },
  {
   "cell_type": "markdown",
   "metadata": {},
   "source": [
    "### References\n",
    "- https://github.com/hyperlearningai/introduction-to-python/blob/master/11.%20PCAP%20Practice%20Exam.ipynb\n",
    "- https://knowledgebase.hyperlearning.ai/courses/introduction-to-python/modules/11/pcap-practice-exam/"
   ]
  },
  {
   "cell_type": "markdown",
   "metadata": {},
   "source": [
    "#### Question 5"
   ]
  }
 ],
 "metadata": {
  "kernelspec": {
   "display_name": "Python 3",
   "language": "python",
   "name": "python3"
  },
  "language_info": {
   "codemirror_mode": {
    "name": "ipython",
    "version": 3
   },
   "file_extension": ".py",
   "mimetype": "text/x-python",
   "name": "python",
   "nbconvert_exporter": "python",
   "pygments_lexer": "ipython3",
   "version": "3.12.8"
  }
 },
 "nbformat": 4,
 "nbformat_minor": 2
}

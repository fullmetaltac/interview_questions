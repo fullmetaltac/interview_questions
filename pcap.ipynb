{
 "cells": [
  {
   "cell_type": "markdown",
   "metadata": {},
   "source": [
    "## Certified Associate in Python Programming (PCAP)"
   ]
  },
  {
   "cell_type": "markdown",
   "metadata": {},
   "source": [
    "### Examination paper (PCAP-31-02)"
   ]
  },
  {
   "cell_type": "markdown",
   "metadata": {},
   "source": [
    "#### Question 1  "
   ]
  },
  {
   "cell_type": "markdown",
   "metadata": {},
   "source": [
    "The following expression  \n",
    "```python\n",
    "2 ** 3 ** 2 ** 1\n",
    "```\n",
    "is:\n",
    "1. Invalid\n",
    "1. Equal to 16\n",
    "1. Equal to 16.0\n",
    "1. Equal to 512\n",
    "1. Equal to 64\n",
    "1. Equal to 128.0"
   ]
  },
  {
   "cell_type": "code",
   "execution_count": 3,
   "metadata": {},
   "outputs": [
    {
     "data": {
      "text/plain": [
       "512"
      ]
     },
     "execution_count": 3,
     "metadata": {},
     "output_type": "execute_result"
    }
   ],
   "source": [
    "2 ** 3 ** 2 ** 1"
   ]
  },
  {
   "cell_type": "markdown",
   "metadata": {},
   "source": [
    "#### Question 2"
   ]
  },
  {
   "cell_type": "markdown",
   "metadata": {},
   "source": [
    "If you want to build a string that reads:  \n",
    "```python\n",
    "Peter's sister's name's \"Anna\"\n",
    "```\n",
    "which of the following literals would you use? (Select all that apply)\n",
    "1. \"Peter's sister's name's \\\"Anna\\\"\"\n",
    "1. 'Peter\\'s sister\\'s name\\'s \\\"Anna\\\"'\n",
    "1. \"Peter's sister's name's \"Anna\"\"\n",
    "1. 'Peter's sister's name's \"Anna\"'"
   ]
  }
 ],
 "metadata": {
  "kernelspec": {
   "display_name": "Python 3",
   "language": "python",
   "name": "python3"
  },
  "language_info": {
   "codemirror_mode": {
    "name": "ipython",
    "version": 3
   },
   "file_extension": ".py",
   "mimetype": "text/x-python",
   "name": "python",
   "nbconvert_exporter": "python",
   "pygments_lexer": "ipython3",
   "version": "3.12.8"
  }
 },
 "nbformat": 4,
 "nbformat_minor": 2
}
